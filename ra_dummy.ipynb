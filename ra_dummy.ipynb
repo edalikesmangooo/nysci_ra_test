{
 "cells": [
  {
   "cell_type": "code",
   "execution_count": 1,
   "id": "b4663c51",
   "metadata": {},
   "outputs": [],
   "source": [
    "# import random, time\n",
    "# lines = [\"sentence a\", \"sentence b\",\"sentence c\",\"sentence d\",\"sentence e\",\"sentence f\"] # add sentences to this list\n",
    "# while (True):\n",
    "#     time.sleep(random.random()*10) # 1000 seconds\n",
    "#     print(random.choice(lines))\n",
    "\n"
   ]
  },
  {
   "cell_type": "code",
   "execution_count": 2,
   "id": "8a7cbc76",
   "metadata": {},
   "outputs": [],
   "source": [
    "# import os\n"
   ]
  },
  {
   "cell_type": "code",
   "execution_count": 5,
   "id": "a42f28a7",
   "metadata": {},
   "outputs": [
    {
     "ename": "KeyboardInterrupt",
     "evalue": "",
     "output_type": "error",
     "traceback": [
      "\u001b[0;31m---------------------------------------------------------------------------\u001b[0m",
      "\u001b[0;31mKeyboardInterrupt\u001b[0m                         Traceback (most recent call last)",
      "\u001b[0;32m<ipython-input-5-c4be9555c3f9>\u001b[0m in \u001b[0;36m<module>\u001b[0;34m\u001b[0m\n\u001b[1;32m     25\u001b[0m \u001b[0;34m\u001b[0m\u001b[0m\n\u001b[1;32m     26\u001b[0m \u001b[0;32mwhile\u001b[0m \u001b[0;34m(\u001b[0m\u001b[0;32mTrue\u001b[0m\u001b[0;34m)\u001b[0m\u001b[0;34m:\u001b[0m\u001b[0;34m\u001b[0m\u001b[0;34m\u001b[0m\u001b[0m\n\u001b[0;32m---> 27\u001b[0;31m     \u001b[0mtime\u001b[0m\u001b[0;34m.\u001b[0m\u001b[0msleep\u001b[0m\u001b[0;34m(\u001b[0m\u001b[0mrandom\u001b[0m\u001b[0;34m.\u001b[0m\u001b[0mrandom\u001b[0m\u001b[0;34m(\u001b[0m\u001b[0;34m)\u001b[0m\u001b[0;34m*\u001b[0m\u001b[0;36m80\u001b[0m\u001b[0;34m)\u001b[0m \u001b[0;31m# 1000 seconds\u001b[0m\u001b[0;34m\u001b[0m\u001b[0;34m\u001b[0m\u001b[0m\n\u001b[0m\u001b[1;32m     28\u001b[0m \u001b[0;34m\u001b[0m\u001b[0m\n\u001b[1;32m     29\u001b[0m     \u001b[0mimg\u001b[0m\u001b[0;34m=\u001b[0m\u001b[0mrandom\u001b[0m\u001b[0;34m.\u001b[0m\u001b[0mchoice\u001b[0m\u001b[0;34m(\u001b[0m\u001b[0mimgs\u001b[0m\u001b[0;34m)\u001b[0m\u001b[0;34m\u001b[0m\u001b[0;34m\u001b[0m\u001b[0m\n",
      "\u001b[0;31mKeyboardInterrupt\u001b[0m: "
     ]
    }
   ],
   "source": [
    "import random, time, os\n",
    "from os import listdir\n",
    "from PIL import Image as PImage\n",
    "pth=os.getcwd()\n",
    "# print(pth)\n",
    "\n",
    "path = \"/Users/macpro/Documents/km3/\"\n",
    "# print (path) * remember to add the / at the end *\n",
    "\n",
    "def loadImages(path):\n",
    "    # return array of images\n",
    "\n",
    "    imagesList = listdir(path)\n",
    "    loadedImages = []\n",
    "    for pic in imagesList:\n",
    "        image = PImage.open(path + pic)\n",
    "        loadedImages.append(image)\n",
    "\n",
    "    return loadedImages\n",
    "\n",
    "# images from the folder in an array\n",
    "imgs = loadImages(path)\n",
    "\n",
    "\n",
    "\n",
    "while (True):\n",
    "    time.sleep(random.random()*80) # 1000 seconds\n",
    "      \n",
    "    img=random.choice(imgs)\n",
    "    img.show()\n",
    "\n"
   ]
  },
  {
   "cell_type": "code",
   "execution_count": null,
   "id": "2ff5c42f",
   "metadata": {},
   "outputs": [],
   "source": []
  }
 ],
 "metadata": {
  "kernelspec": {
   "display_name": "Python 3",
   "language": "python",
   "name": "python3"
  },
  "language_info": {
   "codemirror_mode": {
    "name": "ipython",
    "version": 3
   },
   "file_extension": ".py",
   "mimetype": "text/x-python",
   "name": "python",
   "nbconvert_exporter": "python",
   "pygments_lexer": "ipython3",
   "version": "3.8.8"
  }
 },
 "nbformat": 4,
 "nbformat_minor": 5
}
